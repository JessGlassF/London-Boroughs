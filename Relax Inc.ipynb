{
 "cells": [
  {
   "cell_type": "code",
   "execution_count": 1,
   "id": "a878c940-2599-42bc-bb3b-82192295516d",
   "metadata": {},
   "outputs": [],
   "source": [
    "import pandas as pd\n",
    "import numpy as np\n",
    "\n",
    "users = pd.read_csv('takehome_users.csv', encoding='latin-1',parse_dates=True)\n",
    "engage = pd.read_csv('takehome_user_engagement.csv', parse_dates=True)"
   ]
  },
  {
   "cell_type": "code",
   "execution_count": 2,
   "id": "2d958ab9-4903-4a69-a18c-1e9d48a4dd01",
   "metadata": {},
   "outputs": [
    {
     "data": {
      "text/html": [
       "<div>\n",
       "<style scoped>\n",
       "    .dataframe tbody tr th:only-of-type {\n",
       "        vertical-align: middle;\n",
       "    }\n",
       "\n",
       "    .dataframe tbody tr th {\n",
       "        vertical-align: top;\n",
       "    }\n",
       "\n",
       "    .dataframe thead th {\n",
       "        text-align: right;\n",
       "    }\n",
       "</style>\n",
       "<table border=\"1\" class=\"dataframe\">\n",
       "  <thead>\n",
       "    <tr style=\"text-align: right;\">\n",
       "      <th></th>\n",
       "      <th>object_id</th>\n",
       "      <th>creation_time</th>\n",
       "      <th>name</th>\n",
       "      <th>email</th>\n",
       "      <th>creation_source</th>\n",
       "      <th>last_session_creation_time</th>\n",
       "      <th>opted_in_to_mailing_list</th>\n",
       "      <th>enabled_for_marketing_drip</th>\n",
       "      <th>org_id</th>\n",
       "      <th>invited_by_user_id</th>\n",
       "    </tr>\n",
       "  </thead>\n",
       "  <tbody>\n",
       "    <tr>\n",
       "      <th>0</th>\n",
       "      <td>1</td>\n",
       "      <td>2014-04-22 03:53:30</td>\n",
       "      <td>Clausen August</td>\n",
       "      <td>AugustCClausen@yahoo.com</td>\n",
       "      <td>GUEST_INVITE</td>\n",
       "      <td>1.398139e+09</td>\n",
       "      <td>1</td>\n",
       "      <td>0</td>\n",
       "      <td>11</td>\n",
       "      <td>10803.0</td>\n",
       "    </tr>\n",
       "    <tr>\n",
       "      <th>1</th>\n",
       "      <td>2</td>\n",
       "      <td>2013-11-15 03:45:04</td>\n",
       "      <td>Poole Matthew</td>\n",
       "      <td>MatthewPoole@gustr.com</td>\n",
       "      <td>ORG_INVITE</td>\n",
       "      <td>1.396238e+09</td>\n",
       "      <td>0</td>\n",
       "      <td>0</td>\n",
       "      <td>1</td>\n",
       "      <td>316.0</td>\n",
       "    </tr>\n",
       "    <tr>\n",
       "      <th>2</th>\n",
       "      <td>3</td>\n",
       "      <td>2013-03-19 23:14:52</td>\n",
       "      <td>Bottrill Mitchell</td>\n",
       "      <td>MitchellBottrill@gustr.com</td>\n",
       "      <td>ORG_INVITE</td>\n",
       "      <td>1.363735e+09</td>\n",
       "      <td>0</td>\n",
       "      <td>0</td>\n",
       "      <td>94</td>\n",
       "      <td>1525.0</td>\n",
       "    </tr>\n",
       "    <tr>\n",
       "      <th>3</th>\n",
       "      <td>4</td>\n",
       "      <td>2013-05-21 08:09:28</td>\n",
       "      <td>Clausen Nicklas</td>\n",
       "      <td>NicklasSClausen@yahoo.com</td>\n",
       "      <td>GUEST_INVITE</td>\n",
       "      <td>1.369210e+09</td>\n",
       "      <td>0</td>\n",
       "      <td>0</td>\n",
       "      <td>1</td>\n",
       "      <td>5151.0</td>\n",
       "    </tr>\n",
       "    <tr>\n",
       "      <th>4</th>\n",
       "      <td>5</td>\n",
       "      <td>2013-01-17 10:14:20</td>\n",
       "      <td>Raw Grace</td>\n",
       "      <td>GraceRaw@yahoo.com</td>\n",
       "      <td>GUEST_INVITE</td>\n",
       "      <td>1.358850e+09</td>\n",
       "      <td>0</td>\n",
       "      <td>0</td>\n",
       "      <td>193</td>\n",
       "      <td>5240.0</td>\n",
       "    </tr>\n",
       "  </tbody>\n",
       "</table>\n",
       "</div>"
      ],
      "text/plain": [
       "   object_id        creation_time               name  \\\n",
       "0          1  2014-04-22 03:53:30     Clausen August   \n",
       "1          2  2013-11-15 03:45:04      Poole Matthew   \n",
       "2          3  2013-03-19 23:14:52  Bottrill Mitchell   \n",
       "3          4  2013-05-21 08:09:28    Clausen Nicklas   \n",
       "4          5  2013-01-17 10:14:20          Raw Grace   \n",
       "\n",
       "                        email creation_source  last_session_creation_time  \\\n",
       "0    AugustCClausen@yahoo.com    GUEST_INVITE                1.398139e+09   \n",
       "1      MatthewPoole@gustr.com      ORG_INVITE                1.396238e+09   \n",
       "2  MitchellBottrill@gustr.com      ORG_INVITE                1.363735e+09   \n",
       "3   NicklasSClausen@yahoo.com    GUEST_INVITE                1.369210e+09   \n",
       "4          GraceRaw@yahoo.com    GUEST_INVITE                1.358850e+09   \n",
       "\n",
       "   opted_in_to_mailing_list  enabled_for_marketing_drip  org_id  \\\n",
       "0                         1                           0      11   \n",
       "1                         0                           0       1   \n",
       "2                         0                           0      94   \n",
       "3                         0                           0       1   \n",
       "4                         0                           0     193   \n",
       "\n",
       "   invited_by_user_id  \n",
       "0             10803.0  \n",
       "1               316.0  \n",
       "2              1525.0  \n",
       "3              5151.0  \n",
       "4              5240.0  "
      ]
     },
     "execution_count": 2,
     "metadata": {},
     "output_type": "execute_result"
    }
   ],
   "source": [
    "users.head()"
   ]
  },
  {
   "cell_type": "code",
   "execution_count": 3,
   "id": "2fbfd5a0-dcba-4e6a-b400-d632875cfdf6",
   "metadata": {},
   "outputs": [
    {
     "data": {
      "text/html": [
       "<div>\n",
       "<style scoped>\n",
       "    .dataframe tbody tr th:only-of-type {\n",
       "        vertical-align: middle;\n",
       "    }\n",
       "\n",
       "    .dataframe tbody tr th {\n",
       "        vertical-align: top;\n",
       "    }\n",
       "\n",
       "    .dataframe thead th {\n",
       "        text-align: right;\n",
       "    }\n",
       "</style>\n",
       "<table border=\"1\" class=\"dataframe\">\n",
       "  <thead>\n",
       "    <tr style=\"text-align: right;\">\n",
       "      <th></th>\n",
       "      <th>time_stamp</th>\n",
       "      <th>user_id</th>\n",
       "      <th>visited</th>\n",
       "    </tr>\n",
       "  </thead>\n",
       "  <tbody>\n",
       "    <tr>\n",
       "      <th>0</th>\n",
       "      <td>2014-04-22 03:53:30</td>\n",
       "      <td>1</td>\n",
       "      <td>1</td>\n",
       "    </tr>\n",
       "    <tr>\n",
       "      <th>1</th>\n",
       "      <td>2013-11-15 03:45:04</td>\n",
       "      <td>2</td>\n",
       "      <td>1</td>\n",
       "    </tr>\n",
       "    <tr>\n",
       "      <th>2</th>\n",
       "      <td>2013-11-29 03:45:04</td>\n",
       "      <td>2</td>\n",
       "      <td>1</td>\n",
       "    </tr>\n",
       "    <tr>\n",
       "      <th>3</th>\n",
       "      <td>2013-12-09 03:45:04</td>\n",
       "      <td>2</td>\n",
       "      <td>1</td>\n",
       "    </tr>\n",
       "    <tr>\n",
       "      <th>4</th>\n",
       "      <td>2013-12-25 03:45:04</td>\n",
       "      <td>2</td>\n",
       "      <td>1</td>\n",
       "    </tr>\n",
       "  </tbody>\n",
       "</table>\n",
       "</div>"
      ],
      "text/plain": [
       "            time_stamp  user_id  visited\n",
       "0  2014-04-22 03:53:30        1        1\n",
       "1  2013-11-15 03:45:04        2        1\n",
       "2  2013-11-29 03:45:04        2        1\n",
       "3  2013-12-09 03:45:04        2        1\n",
       "4  2013-12-25 03:45:04        2        1"
      ]
     },
     "execution_count": 3,
     "metadata": {},
     "output_type": "execute_result"
    }
   ],
   "source": [
    "engage.head()"
   ]
  },
  {
   "cell_type": "code",
   "execution_count": 4,
   "id": "eaae1099-ab0c-4c10-8ae9-9638bb45c026",
   "metadata": {},
   "outputs": [],
   "source": [
    "import datetime\n",
    "\n",
    "#set the time_stamp to datetime and the set it as the index\n",
    "engage.time_stamp = pd.to_datetime(engage.time_stamp)\n",
    "engage = engage.set_index('time_stamp', drop= True)"
   ]
  },
  {
   "cell_type": "code",
   "execution_count": 5,
   "id": "4ef45c53-60f2-43b2-91e5-ea9f654c1729",
   "metadata": {},
   "outputs": [],
   "source": [
    "from datetime import timedelta\n",
    "\n",
    "def label_adopted(x):    \n",
    "    \"takes a users input and returns whether or not they have been active within any 7-day period\"\n",
    "    df_temp = engage.loc[engage['user_id'] == x] #select out rows of this user\n",
    "    df_temp = df_temp.resample('D').mean().dropna() #resample to show if active in a day. .mean() is just of 1\n",
    "    adopted = 0\n",
    "    for i in range(len(df_temp)-2): #loop over active days till the second to last day\n",
    "        if df_temp.index[i + 2] - df_temp.index[i] <= timedelta(days=7): # difference between every 1st and 3rd day\n",
    "            adopted = 1\n",
    "            break\n",
    "        else:\n",
    "            adopted = 0\n",
    "    return adopted"
   ]
  },
  {
   "cell_type": "code",
   "execution_count": 6,
   "id": "088ab0e0-3c94-495e-b2a0-b8257b1336eb",
   "metadata": {},
   "outputs": [],
   "source": [
    "#apply to user df to label users as adopted=true \n",
    "users['adopted_user'] = users['object_id'].apply(label_adopted)"
   ]
  },
  {
   "cell_type": "code",
   "execution_count": 7,
   "id": "675eea8f-cb28-4030-82f1-78fd44c3e746",
   "metadata": {},
   "outputs": [
    {
     "name": "stdout",
     "output_type": "stream",
     "text": [
      "1656\n",
      "0.138\n"
     ]
    }
   ],
   "source": [
    "print(sum(users['adopted_user']))\n",
    "print(sum(users.adopted_user)/len(users.adopted_user))"
   ]
  },
  {
   "cell_type": "code",
   "execution_count": 8,
   "id": "d0e05858-f63d-4e79-830e-121bc96b0caa",
   "metadata": {},
   "outputs": [],
   "source": [
    "# set creation_time\n",
    "users.creation_time = pd.to_datetime(users.creation_time)\n",
    "#last_session_creation_time is a unix time stamp, so use map to convert to datetime\n",
    "users['last_session_creation_time'] = users['last_session_creation_time'].map(lambda data: \n",
    "                                    datetime.datetime.fromtimestamp(int(data)).strftime('%Y-%m-%d %H:%M:%S'),\n",
    "                                                                              na_action='ignore')"
   ]
  },
  {
   "cell_type": "code",
   "execution_count": 9,
   "id": "c4d0f8f4-bb9b-48c5-85a1-a4f4ed7bd3be",
   "metadata": {},
   "outputs": [],
   "source": [
    "#now set that to datetime\n",
    "users['last_session_creation_time'] = pd.to_datetime(users['last_session_creation_time'])\n",
    "#subtract to find time active\n",
    "users['usage_length'] = users['last_session_creation_time'] - users['creation_time']\n",
    "#lets settle for seconds instead of days to make the time differences more distinct\n",
    "users['usage_length'] = [x.total_seconds() for x in users['usage_length']]"
   ]
  },
  {
   "cell_type": "code",
   "execution_count": 10,
   "id": "e4d7db50-4a7a-44f7-84fb-ffa2799e0535",
   "metadata": {},
   "outputs": [],
   "source": [
    "users['email_provider'] = [x.split('@')[1] for x in users.email]#select out the domain\n",
    "top_emails = users.email_provider.value_counts().index[:6]\n",
    "#label anything not in the top 5 as other\n",
    "users['email_provider'] = [x if x in top_emails else 'other' for x in users.email_provider]"
   ]
  },
  {
   "cell_type": "code",
   "execution_count": 11,
   "id": "eec3c5b2-48f1-46c3-82b7-0880d13301b9",
   "metadata": {},
   "outputs": [],
   "source": [
    "users.invited_by_user_id = users.invited_by_user_id.fillna(0)"
   ]
  },
  {
   "cell_type": "code",
   "execution_count": 12,
   "id": "d53ca83e-bfbf-4d5c-8ff7-3b23a0916739",
   "metadata": {},
   "outputs": [],
   "source": [
    "feature_df = users.iloc[:,4:]\n",
    "feature_df = feature_df.drop('last_session_creation_time', axis=1)\n",
    "feature_df['usage_length'] = feature_df['usage_length'].fillna(0)"
   ]
  },
  {
   "cell_type": "code",
   "execution_count": 13,
   "id": "e9316b7e-17e4-4d91-83aa-b62af331ff5b",
   "metadata": {},
   "outputs": [],
   "source": [
    "from sklearn.preprocessing import LabelEncoder\n",
    "\n",
    "gle = LabelEncoder()\n",
    "creation_labels = gle.fit_transform(users['creation_source'])\n",
    "feature_df.creation_source = creation_labels\n",
    "\n",
    "org_id_labels = gle.fit_transform(users['org_id'])\n",
    "feature_df.org_id = org_id_labels\n",
    "\n",
    "invited_labels = gle.fit_transform(users['invited_by_user_id'])\n",
    "feature_df.org_id = invited_labels\n",
    "\n",
    "email_labels = gle.fit_transform(users['email_provider'])\n",
    "feature_df.email_provider = email_labels"
   ]
  },
  {
   "cell_type": "code",
   "execution_count": 14,
   "id": "b4973ef5-719c-4e7f-b1e9-f12b8e9e45f3",
   "metadata": {},
   "outputs": [
    {
     "data": {
      "text/html": [
       "<div>\n",
       "<style scoped>\n",
       "    .dataframe tbody tr th:only-of-type {\n",
       "        vertical-align: middle;\n",
       "    }\n",
       "\n",
       "    .dataframe tbody tr th {\n",
       "        vertical-align: top;\n",
       "    }\n",
       "\n",
       "    .dataframe thead th {\n",
       "        text-align: right;\n",
       "    }\n",
       "</style>\n",
       "<table border=\"1\" class=\"dataframe\">\n",
       "  <thead>\n",
       "    <tr style=\"text-align: right;\">\n",
       "      <th></th>\n",
       "      <th>creation_source</th>\n",
       "      <th>opted_in_to_mailing_list</th>\n",
       "      <th>enabled_for_marketing_drip</th>\n",
       "      <th>org_id</th>\n",
       "      <th>invited_by_user_id</th>\n",
       "      <th>adopted_user</th>\n",
       "      <th>usage_length</th>\n",
       "      <th>email_provider</th>\n",
       "    </tr>\n",
       "  </thead>\n",
       "  <tbody>\n",
       "    <tr>\n",
       "      <th>0</th>\n",
       "      <td>0</td>\n",
       "      <td>1</td>\n",
       "      <td>0</td>\n",
       "      <td>2325</td>\n",
       "      <td>10803.0</td>\n",
       "      <td>0</td>\n",
       "      <td>-14400.0</td>\n",
       "      <td>6</td>\n",
       "    </tr>\n",
       "    <tr>\n",
       "      <th>1</th>\n",
       "      <td>1</td>\n",
       "      <td>0</td>\n",
       "      <td>0</td>\n",
       "      <td>56</td>\n",
       "      <td>316.0</td>\n",
       "      <td>1</td>\n",
       "      <td>11736000.0</td>\n",
       "      <td>2</td>\n",
       "    </tr>\n",
       "    <tr>\n",
       "      <th>2</th>\n",
       "      <td>1</td>\n",
       "      <td>0</td>\n",
       "      <td>0</td>\n",
       "      <td>298</td>\n",
       "      <td>1525.0</td>\n",
       "      <td>0</td>\n",
       "      <td>-14400.0</td>\n",
       "      <td>2</td>\n",
       "    </tr>\n",
       "    <tr>\n",
       "      <th>3</th>\n",
       "      <td>0</td>\n",
       "      <td>0</td>\n",
       "      <td>0</td>\n",
       "      <td>1104</td>\n",
       "      <td>5151.0</td>\n",
       "      <td>0</td>\n",
       "      <td>72000.0</td>\n",
       "      <td>6</td>\n",
       "    </tr>\n",
       "    <tr>\n",
       "      <th>4</th>\n",
       "      <td>0</td>\n",
       "      <td>0</td>\n",
       "      <td>0</td>\n",
       "      <td>1127</td>\n",
       "      <td>5240.0</td>\n",
       "      <td>0</td>\n",
       "      <td>414000.0</td>\n",
       "      <td>6</td>\n",
       "    </tr>\n",
       "  </tbody>\n",
       "</table>\n",
       "</div>"
      ],
      "text/plain": [
       "   creation_source  opted_in_to_mailing_list  enabled_for_marketing_drip  \\\n",
       "0                0                         1                           0   \n",
       "1                1                         0                           0   \n",
       "2                1                         0                           0   \n",
       "3                0                         0                           0   \n",
       "4                0                         0                           0   \n",
       "\n",
       "   org_id  invited_by_user_id  adopted_user  usage_length  email_provider  \n",
       "0    2325             10803.0             0      -14400.0               6  \n",
       "1      56               316.0             1    11736000.0               2  \n",
       "2     298              1525.0             0      -14400.0               2  \n",
       "3    1104              5151.0             0       72000.0               6  \n",
       "4    1127              5240.0             0      414000.0               6  "
      ]
     },
     "execution_count": 14,
     "metadata": {},
     "output_type": "execute_result"
    }
   ],
   "source": [
    "feature_df.head()"
   ]
  },
  {
   "cell_type": "code",
   "execution_count": 15,
   "id": "973d069c-7bdc-4b4c-8e16-364651883d7d",
   "metadata": {},
   "outputs": [],
   "source": [
    "from sklearn.model_selection import train_test_split\n",
    "\n",
    "#set up data by seperating out the labels, then split for cross validation\n",
    "data = feature_df.drop('adopted_user', axis=1)\n",
    "labels = feature_df.adopted_user\n",
    "\n",
    "X_train, y_train, X_test, y_test = train_test_split(data, labels, test_size=0.33, random_state=42)"
   ]
  },
  {
   "cell_type": "code",
   "execution_count": 16,
   "id": "9ee1dfd1-96cd-47e0-a005-885bc0d5c37c",
   "metadata": {},
   "outputs": [
    {
     "data": {
      "text/plain": [
       "0.9714646464646465"
      ]
     },
     "execution_count": 16,
     "metadata": {},
     "output_type": "execute_result"
    }
   ],
   "source": [
    "from sklearn.ensemble import RandomForestClassifier\n",
    "\n",
    "#train and test classifier\n",
    "rf = RandomForestClassifier(class_weight='balanced_subsample')\n",
    "\n",
    "rf.fit(X_train, X_test)\n",
    "\n",
    "rf.score(y_train, y_test)"
   ]
  },
  {
   "cell_type": "code",
   "execution_count": 17,
   "id": "5e02f4dd-ef87-4a5d-8f07-e465daf179a3",
   "metadata": {},
   "outputs": [
    {
     "name": "stdout",
     "output_type": "stream",
     "text": [
      "              precision    recall  f1-score   support\n",
      "\n",
      "           0       0.98      0.99      0.98      3407\n",
      "           1       0.92      0.87      0.90       553\n",
      "\n",
      "    accuracy                           0.97      3960\n",
      "   macro avg       0.95      0.93      0.94      3960\n",
      "weighted avg       0.97      0.97      0.97      3960\n",
      "\n",
      "confusion matrix:\n",
      "[[3365   42]\n",
      " [  71  482]]\n"
     ]
    }
   ],
   "source": [
    "from sklearn.metrics import classification_report, confusion_matrix\n",
    "\n",
    "#print out classification report and confusion matrix\n",
    "y_pred = rf.predict(y_train)\n",
    "\n",
    "print(classification_report(y_test, y_pred))\n",
    "\n",
    "cm= confusion_matrix(y_test,y_pred)\n",
    "print('confusion matrix:')\n",
    "print(cm)"
   ]
  },
  {
   "cell_type": "code",
   "execution_count": 18,
   "id": "6d9fcb42-ff16-41fe-813a-e6728f1effb1",
   "metadata": {},
   "outputs": [
    {
     "data": {
      "text/plain": [
       "usage_length                  0.917503\n",
       "invited_by_user_id            0.023603\n",
       "org_id                        0.023584\n",
       "email_provider                0.016439\n",
       "creation_source               0.011848\n",
       "enabled_for_marketing_drip    0.003522\n",
       "opted_in_to_mailing_list      0.003501\n",
       "Name: coef, dtype: float64"
      ]
     },
     "execution_count": 18,
     "metadata": {},
     "output_type": "execute_result"
    }
   ],
   "source": [
    "#make a df that displays the cofficients indexed by feature name\n",
    "feature_importance = pd.DataFrame()\n",
    "feature_importance['coef'] = rf.feature_importances_\n",
    "feature_importance = feature_importance.set_index(data.columns)\n",
    "feature_importance.coef.nlargest(10)"
   ]
  },
  {
   "cell_type": "code",
   "execution_count": 19,
   "id": "414905fe-8a8f-47e3-a1fa-2043afbf456e",
   "metadata": {},
   "outputs": [
    {
     "data": {
      "image/png": "[encoded data removed]",
      "text/plain": [
       "<Figure size 1000x500 with 1 Axes>"
      ]
     },
     "metadata": {},
     "output_type": "display_data"
    }
   ],
   "source": [
    "#plot the results\n",
    "import matplotlib.pyplot as plt\n",
    "plt.figure(figsize=(10,5))\n",
    "(feature_importance['coef']).nlargest(10).plot(kind='bar', x=feature_importance.index)\n",
    "plt.title('Random Forest Classifier Feature Importance')\n",
    "plt.ylabel('coefficient value')\n",
    "plt.show()"
   ]
  },
  {
   "cell_type": "code",
   "execution_count": 20,
   "id": "03979fe6-8891-4857-9648-400d809036ce",
   "metadata": {},
   "outputs": [],
   "source": [
    "#define func to find ecdf of dataset\n",
    "def ecdf(data):\n",
    "    \"\"\"Compute ECDF for a one-dimensional array of measurements.\"\"\"\n",
    "    n = len(data)\n",
    "    x = np.sort(data)\n",
    "    y = np.arange(1, n+1) / n\n",
    "    return x, y"
   ]
  },
  {
   "cell_type": "code",
   "execution_count": 21,
   "id": "2a905a6d-893f-460a-adde-95d316fe9bc2",
   "metadata": {},
   "outputs": [],
   "source": [
    "adopted = feature_df.usage_length.loc[feature_df['adopted_user'] == 1]\n",
    "not_adopted = feature_df.usage_length.loc[feature_df['adopted_user'] == 0]"
   ]
  },
  {
   "cell_type": "code",
   "execution_count": 22,
   "id": "ef1b3be4-4f37-4803-9e26-3d37202901e1",
   "metadata": {},
   "outputs": [
    {
     "data": {
      "image/png": "[encoded data removed]",
      "text/plain": [
       "<Figure size 1000x500 with 1 Axes>"
      ]
     },
     "metadata": {},
     "output_type": "display_data"
    }
   ],
   "source": [
    "#set fig size\n",
    "%matplotlib inline\n",
    "plt.figure(figsize=(10,5))\n",
    "\n",
    "x_active, y_active = ecdf(adopted)\n",
    "x_inactive, y_inactive = ecdf(not_adopted)\n",
    "\n",
    "plt.plot(x_active, y_active, marker='.', linestyle='none')\n",
    "plt.plot(x_inactive, y_inactive, marker='.', linestyle='none')\n",
    "plt.title('Length of Usage b/w Adopted and Not Adpoted Users')\n",
    "plt.xlabel('Length of Usage (Seconds)')\n",
    "plt.ylabel('ECDF')\n",
    "plt.legend(['adopted', 'not adopted'])\n",
    "plt.show()"
   ]
  },
  {
   "cell_type": "code",
   "execution_count": null,
   "id": "9a4abde1-b210-4d4e-9306-d67e27e01cdf",
   "metadata": {},
   "outputs": [],
   "source": []
  }
 ],
 "metadata": {
  "kernelspec": {
   "display_name": "Python 3 (ipykernel)",
   "language": "python",
   "name": "python3"
  },
  "language_info": {
   "codemirror_mode": {
    "name": "ipython",
    "version": 3
   },
   "file_extension": ".py",
   "mimetype": "text/x-python",
   "name": "python",
   "nbconvert_exporter": "python",
   "pygments_lexer": "ipython3",
   "version": "3.12.3"
  }
 },
 "nbformat": 4,
 "nbformat_minor": 5
}
